{
 "cells": [
  {
   "cell_type": "markdown",
   "id": "7473f2c0",
   "metadata": {},
   "source": [
    "<h6>Question1</h6>"
   ]
  },
  {
   "cell_type": "markdown",
   "id": "da4eed4d",
   "metadata": {},
   "source": [
    "Deck of card = 52\n",
    "probability of drawing 3 cards(1 diamond, 1 heart, 1 spade)= (13/52)*(13/51)*(13/50)\n",
    "                                                           = 0.016"
   ]
  },
  {
   "cell_type": "markdown",
   "id": "2b16bb3e",
   "metadata": {},
   "source": [
    "<h6>Question 2</h6>"
   ]
  },
  {
   "cell_type": "code",
   "execution_count": null,
   "id": "12ee196f",
   "metadata": {},
   "outputs": [],
   "source": [
    "given:\n",
    "    probability of action = 0.42\n",
    "    probability of drama = 0.36\n",
    "    probability of comedy = 0.54\n",
    "    probability of horror = 0.12\n",
    "\n",
    "Formula for either A or B:    \n",
    "    P(A U B) = P(A) + P(B) - P(AB)\n",
    "    \n",
    "Solution:\n",
    "    A) Probability of either action or drama = P(action) + P(drama) - P(action)*P(drama)\n",
    "                                             = 0.42+0.36-(0.42*0.36)\n",
    "                                             = 0.6288\n",
    "    B) Probability of either comedy or horror = P(comedy) + P(horror) - P(comedy)*P(horror)\n",
    "                                              = 0.54+0.12-(0.54*0.12)\n",
    "                                              = 0.5952"
   ]
  },
  {
   "cell_type": "markdown",
   "id": "658141e0",
   "metadata": {},
   "source": [
    "<h6>Question 3</h6>"
   ]
  },
  {
   "cell_type": "code",
   "execution_count": 8,
   "id": "0b5ae027",
   "metadata": {},
   "outputs": [
    {
     "name": "stdout",
     "output_type": "stream",
     "text": [
      "GIVEN: \n"
     ]
    },
    {
     "data": {
      "text/html": [
       "<div>\n",
       "<style scoped>\n",
       "    .dataframe tbody tr th:only-of-type {\n",
       "        vertical-align: middle;\n",
       "    }\n",
       "\n",
       "    .dataframe tbody tr th {\n",
       "        vertical-align: top;\n",
       "    }\n",
       "\n",
       "    .dataframe thead th {\n",
       "        text-align: right;\n",
       "    }\n",
       "</style>\n",
       "<table border=\"1\" class=\"dataframe\">\n",
       "  <thead>\n",
       "    <tr style=\"text-align: right;\">\n",
       "      <th></th>\n",
       "      <th>Bag A</th>\n",
       "      <th>Bag B</th>\n",
       "    </tr>\n",
       "  </thead>\n",
       "  <tbody>\n",
       "    <tr>\n",
       "      <th>0</th>\n",
       "      <td>3 Red Ball</td>\n",
       "      <td>4 White Ball</td>\n",
       "    </tr>\n",
       "    <tr>\n",
       "      <th>1</th>\n",
       "      <td>5 Black Ball</td>\n",
       "      <td>7 Black Ball</td>\n",
       "    </tr>\n",
       "  </tbody>\n",
       "</table>\n",
       "</div>"
      ],
      "text/plain": [
       "          Bag A         Bag B\n",
       "0    3 Red Ball  4 White Ball\n",
       "1  5 Black Ball  7 Black Ball"
      ]
     },
     "execution_count": 8,
     "metadata": {},
     "output_type": "execute_result"
    }
   ],
   "source": [
    "print(\"GIVEN: \")\n",
    "import pandas as pd\n",
    "bag = pd.DataFrame(columns = [\"Bag A\", \"Bag B\"])\n",
    "bag.loc[0,\"Bag A\"] = \"3 Red Ball\"\n",
    "bag.loc[0,\"Bag B\"] = \"4 White Ball\"\n",
    "bag.loc[1,\"Bag A\"] = \"5 Black Ball\"\n",
    "bag.loc[1,\"Bag B\"] = \"7 Black Ball\"\n",
    "bag.head()"
   ]
  },
  {
   "cell_type": "code",
   "execution_count": null,
   "id": "51e0c3be",
   "metadata": {},
   "outputs": [],
   "source": [
    "Solution:\n",
    "    Probability of black ball in Bag A = 5/8 = 0.625\n",
    "    Probability of black ball in Bag B = 7/11 = 0.636\n",
    "    By Naive Bayes theorem,\n",
    "        P(B/B)= (p(B)*p(B/B)) / (p(A)*p(B/A)+p(B)*p(B/B))\n",
    "              =( 1/2 * 7/11) / ((1/2 * 5/8)+( 1/2 * 7/11))\n",
    "              =0.50450\n",
    "    "
   ]
  },
  {
   "cell_type": "markdown",
   "id": "fcb3c584",
   "metadata": {},
   "source": [
    "<h6>Question 4</h6>"
   ]
  },
  {
   "cell_type": "code",
   "execution_count": 12,
   "id": "c04ab258",
   "metadata": {},
   "outputs": [
    {
     "name": "stdout",
     "output_type": "stream",
     "text": [
      "Probability of 450 application in one hour = 450/60 =7.5\n",
      "Probability of 10 application in one minute=  0.086\n",
      "Probability of getting atleast 17 application in two minute=  0.001\n"
     ]
    }
   ],
   "source": [
    "print(\"Probability of 450 application in one hour = 450/60 =7.5\")\n",
    "from scipy.stats import poisson\n",
    "PA=poisson.pmf(k=10, mu=7.5)\n",
    "print(\"Probability of 10 application in one minute= \",round(PA,3))\n",
    "PB=poisson.pmf(k=17, mu=7.5)\n",
    "print(\"Probability of getting atleast 17 application in two minute= \",round(PB,3))"
   ]
  },
  {
   "cell_type": "markdown",
   "id": "53303455",
   "metadata": {},
   "source": [
    "<h6>Question 5</h6>"
   ]
  },
  {
   "cell_type": "code",
   "execution_count": null,
   "id": "d2cb5dc9",
   "metadata": {},
   "outputs": [],
   "source": []
  },
  {
   "cell_type": "markdown",
   "id": "11e82151",
   "metadata": {},
   "source": [
    "<h6>Question 6</h6>"
   ]
  },
  {
   "cell_type": "code",
   "execution_count": null,
   "id": "734531b7",
   "metadata": {},
   "outputs": [],
   "source": [
    "Given:\n",
    "    Mean, μ= $ 350870\n",
    "    Standard deviation, σ= $ 12405\n",
    "Solution:\n",
    "    75th percentile of prices = Q3 = μ + (.675)σ\n",
    "                                   = 350870 + (0.675*12405)\n",
    "                                   = $ 359243.375"
   ]
  },
  {
   "cell_type": "markdown",
   "id": "cf71f3f4",
   "metadata": {},
   "source": [
    "<h6>Question 7</h6>"
   ]
  },
  {
   "cell_type": "code",
   "execution_count": 19,
   "id": "79126b81",
   "metadata": {},
   "outputs": [
    {
     "data": {
      "text/plain": [
       "(0.9921235138705414, 0.5051139397884965)"
      ]
     },
     "execution_count": 19,
     "metadata": {},
     "output_type": "execute_result"
    }
   ],
   "source": [
    "UnionCity=[44,21,36,34,77,32,29,39,92,67,45,37]\n",
    "MountainView=[47,81,41,79,38,20,33,83,41,40,69,36]\n",
    "import numpy as np\n",
    "import scipy\n",
    "def f_test(x, y):\n",
    "    x = np.array(UnionCity)\n",
    "    y = np.array(MountainView)\n",
    "    f = np.var(x, ddof=1)/np.var(y, ddof=1) #calculate F test statistic \n",
    "    dfn = x.size-1 #define degrees of freedom numerator \n",
    "    dfd = y.size-1 #define degrees of freedom denominator \n",
    "    p = 1-scipy.stats.f.cdf(f, dfn, dfd) #find p-value of F test statistic \n",
    "    return f, p\n",
    "\n",
    "#perform F-test\n",
    "f_test(x, y)\n"
   ]
  },
  {
   "cell_type": "markdown",
   "id": "df410544",
   "metadata": {},
   "source": [
    "<h6>Question 8</h6>"
   ]
  },
  {
   "cell_type": "code",
   "execution_count": null,
   "id": "b79e2f04",
   "metadata": {},
   "outputs": [],
   "source": []
  },
  {
   "cell_type": "markdown",
   "id": "4d31f2fb",
   "metadata": {},
   "source": [
    "<h6>Question 9</h6>"
   ]
  },
  {
   "cell_type": "code",
   "execution_count": 20,
   "id": "06dfcb85",
   "metadata": {},
   "outputs": [
    {
     "name": "stdout",
     "output_type": "stream",
     "text": [
      "Probability of that the number of pizza sales exceeds 80 in a day =  0.040177141568228006\n"
     ]
    }
   ],
   "source": [
    "PP=poisson.pmf(k=80, mu=76)\n",
    "print(\"Probability of that the number of pizza sales exceeds 80 in a day = \",PP)"
   ]
  },
  {
   "cell_type": "markdown",
   "id": "c89a7242",
   "metadata": {},
   "source": [
    "<h6>Question 10</h6>"
   ]
  },
  {
   "cell_type": "code",
   "execution_count": 26,
   "id": "bced3715",
   "metadata": {},
   "outputs": [
    {
     "name": "stdout",
     "output_type": "stream",
     "text": [
      "3.25 1.7108820799094275 0.0034019694897433617\n"
     ]
    }
   ],
   "source": [
    "from scipy import stats\n",
    "se = 20 / np.sqrt(25)\n",
    "t_stat = (95 - 82) / se\n",
    "df = 25 - 1\n",
    "# calculate the critical value\n",
    "critical =stats.t.ppf(1.0 - 0.05, df)\n",
    "p = (1.0 - stats.t.cdf(abs(t_stat), df)) * 2.0\n",
    "print(t_stat,critical,p)"
   ]
  },
  {
   "cell_type": "markdown",
   "id": "36826623",
   "metadata": {},
   "source": [
    "<p> P value is less than alpha(0.05) so rejecting the null hypothesis. Thus it does not have any effect at all</p>"
   ]
  },
  {
   "cell_type": "code",
   "execution_count": null,
   "id": "d94074f3",
   "metadata": {},
   "outputs": [],
   "source": []
  }
 ],
 "metadata": {
  "kernelspec": {
   "display_name": "Python 3 (ipykernel)",
   "language": "python",
   "name": "python3"
  },
  "language_info": {
   "codemirror_mode": {
    "name": "ipython",
    "version": 3
   },
   "file_extension": ".py",
   "mimetype": "text/x-python",
   "name": "python",
   "nbconvert_exporter": "python",
   "pygments_lexer": "ipython3",
   "version": "3.9.7"
  }
 },
 "nbformat": 4,
 "nbformat_minor": 5
}
